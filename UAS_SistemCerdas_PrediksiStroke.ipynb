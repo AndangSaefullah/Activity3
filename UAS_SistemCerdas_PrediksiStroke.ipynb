{
  "nbformat": 4,
  "nbformat_minor": 0,
  "metadata": {
    "colab": {
      "provenance": [],
      "authorship_tag": "ABX9TyNiudLo4zk5X7h5XHiYyKXj",
      "include_colab_link": true
    },
    "kernelspec": {
      "name": "python3",
      "display_name": "Python 3"
    },
    "language_info": {
      "name": "python"
    }
  },
  "cells": [
    {
      "cell_type": "markdown",
      "metadata": {
        "id": "view-in-github",
        "colab_type": "text"
      },
      "source": [
        "<a href=\"https://colab.research.google.com/github/AndangSaefullah/Activity3/blob/master/UAS_SistemCerdas_PrediksiStroke.ipynb\" target=\"_parent\"><img src=\"https://colab.research.google.com/assets/colab-badge.svg\" alt=\"Open In Colab\"/></a>"
      ]
    },
    {
      "cell_type": "code",
      "execution_count": null,
      "metadata": {
        "id": "n6kt3zOpYkes"
      },
      "outputs": [],
      "source": [
        "import pandas as pd\n",
        "from sklearn.model_selection import train_test_split\n",
        "from sklearn.preprocessing import StandardScaler\n",
        "from sklearn.metrics import accuracy_score\n",
        "from tensorflow.keras.models import Sequential\n",
        "from tensorflow.keras.layers import Dense\n",
        "from sklearn.metrics import confusion_matrix, classification_report\n",
        "import matplotlib.pyplot as plt"
      ]
    },
    {
      "cell_type": "code",
      "source": [
        "dataset = pd.read_csv('/content/sample_data/new_dataset_stroke.csv', delimiter=\";\")\n",
        "print(dataset.head())"
      ],
      "metadata": {
        "colab": {
          "base_uri": "https://localhost:8080/"
        },
        "id": "-anjBK1kY5sK",
        "outputId": "ba0449db-abaf-4400-a99f-8b8e2aa8b568"
      },
      "execution_count": null,
      "outputs": [
        {
          "output_type": "stream",
          "name": "stdout",
          "text": [
            "   Patient ID  Age  Hypertension  Heart Disease  Average Glucose Level  \\\n",
            "0       18153   56             0              1                  13091   \n",
            "1       62749   80             0              0                  18373   \n",
            "2       32145   26             1              1                   1890   \n",
            "3        6154   73             0              0                  18529   \n",
            "4       48973   51             1              1                  17734   \n",
            "\n",
            "   Body Mass Index (BMI)  Stroke History  Stress Levels  Diagnose  \n",
            "0                   2237               0            348         1  \n",
            "1                   3257               0            173         1  \n",
            "2                   2032               0            731         1  \n",
            "3                    275               0            535         0  \n",
            "4                   2906               0            684         1  \n"
          ]
        }
      ]
    },
    {
      "cell_type": "code",
      "source": [
        "X = dataset.drop('Diagnose', axis=1)\n",
        "y = dataset['Diagnose']"
      ],
      "metadata": {
        "id": "ITPswxoUZI9g"
      },
      "execution_count": null,
      "outputs": []
    },
    {
      "cell_type": "code",
      "source": [
        "X_train, X_test, y_train, y_test = train_test_split(X, y, test_size=0.2, random_state=42)"
      ],
      "metadata": {
        "id": "PSaT5Z89b5xa"
      },
      "execution_count": null,
      "outputs": []
    },
    {
      "cell_type": "code",
      "source": [
        "scaler = StandardScaler()\n",
        "X_train = scaler.fit_transform(X_train)\n",
        "X_test = scaler.transform(X_test)"
      ],
      "metadata": {
        "id": "QMKnv1Clb7-g"
      },
      "execution_count": null,
      "outputs": []
    },
    {
      "cell_type": "code",
      "source": [
        "model = Sequential()\n",
        "model.add(Dense(units=64, activation='relu', input_dim=X_train.shape[1]))\n",
        "model.add(Dense(units=32, activation='relu'))\n",
        "model.add(Dense(units=1, activation='sigmoid'))"
      ],
      "metadata": {
        "id": "t2e3QVn2b-W9"
      },
      "execution_count": null,
      "outputs": []
    },
    {
      "cell_type": "code",
      "source": [
        "model.compile(optimizer='adam', loss='binary_crossentropy', metrics=['accuracy'])"
      ],
      "metadata": {
        "id": "hFGmZBplb_rH"
      },
      "execution_count": null,
      "outputs": []
    },
    {
      "cell_type": "code",
      "source": [
        "history = model.fit(X_train, y_train, epochs=50, batch_size=32, validation_split=0.2, verbose=1)"
      ],
      "metadata": {
        "colab": {
          "base_uri": "https://localhost:8080/"
        },
        "id": "VhcvlEdovVMR",
        "outputId": "81f0b833-882d-4e7b-f2a8-29276389326e"
      },
      "execution_count": null,
      "outputs": [
        {
          "output_type": "stream",
          "name": "stdout",
          "text": [
            "Epoch 1/50\n",
            "10/10 [==============================] - 0s 20ms/step - loss: 0.4498 - accuracy: 0.8213 - val_loss: 0.8385 - val_accuracy: 0.4750\n",
            "Epoch 2/50\n",
            "10/10 [==============================] - 0s 18ms/step - loss: 0.4472 - accuracy: 0.8245 - val_loss: 0.8441 - val_accuracy: 0.4625\n",
            "Epoch 3/50\n",
            "10/10 [==============================] - 0s 11ms/step - loss: 0.4434 - accuracy: 0.8401 - val_loss: 0.8462 - val_accuracy: 0.4625\n",
            "Epoch 4/50\n",
            "10/10 [==============================] - 0s 18ms/step - loss: 0.4403 - accuracy: 0.8307 - val_loss: 0.8508 - val_accuracy: 0.4750\n",
            "Epoch 5/50\n",
            "10/10 [==============================] - 0s 21ms/step - loss: 0.4358 - accuracy: 0.8307 - val_loss: 0.8522 - val_accuracy: 0.4625\n",
            "Epoch 6/50\n",
            "10/10 [==============================] - 0s 14ms/step - loss: 0.4323 - accuracy: 0.8370 - val_loss: 0.8596 - val_accuracy: 0.4625\n",
            "Epoch 7/50\n",
            "10/10 [==============================] - 0s 10ms/step - loss: 0.4280 - accuracy: 0.8401 - val_loss: 0.8655 - val_accuracy: 0.4625\n",
            "Epoch 8/50\n",
            "10/10 [==============================] - 0s 10ms/step - loss: 0.4237 - accuracy: 0.8527 - val_loss: 0.8705 - val_accuracy: 0.4750\n",
            "Epoch 9/50\n",
            "10/10 [==============================] - 0s 8ms/step - loss: 0.4213 - accuracy: 0.8401 - val_loss: 0.8716 - val_accuracy: 0.4625\n",
            "Epoch 10/50\n",
            "10/10 [==============================] - 0s 5ms/step - loss: 0.4174 - accuracy: 0.8401 - val_loss: 0.8773 - val_accuracy: 0.4750\n",
            "Epoch 11/50\n",
            "10/10 [==============================] - 0s 5ms/step - loss: 0.4127 - accuracy: 0.8464 - val_loss: 0.8801 - val_accuracy: 0.4750\n",
            "Epoch 12/50\n",
            "10/10 [==============================] - 0s 7ms/step - loss: 0.4095 - accuracy: 0.8589 - val_loss: 0.8825 - val_accuracy: 0.4625\n",
            "Epoch 13/50\n",
            "10/10 [==============================] - 0s 5ms/step - loss: 0.4070 - accuracy: 0.8589 - val_loss: 0.8897 - val_accuracy: 0.4625\n",
            "Epoch 14/50\n",
            "10/10 [==============================] - 0s 7ms/step - loss: 0.4022 - accuracy: 0.8527 - val_loss: 0.8953 - val_accuracy: 0.4625\n",
            "Epoch 15/50\n",
            "10/10 [==============================] - 0s 6ms/step - loss: 0.3980 - accuracy: 0.8558 - val_loss: 0.8980 - val_accuracy: 0.4500\n",
            "Epoch 16/50\n",
            "10/10 [==============================] - 0s 7ms/step - loss: 0.3940 - accuracy: 0.8652 - val_loss: 0.9058 - val_accuracy: 0.4500\n",
            "Epoch 17/50\n",
            "10/10 [==============================] - 0s 6ms/step - loss: 0.3910 - accuracy: 0.8746 - val_loss: 0.9084 - val_accuracy: 0.4625\n",
            "Epoch 18/50\n",
            "10/10 [==============================] - 0s 5ms/step - loss: 0.3872 - accuracy: 0.8558 - val_loss: 0.9092 - val_accuracy: 0.4625\n",
            "Epoch 19/50\n",
            "10/10 [==============================] - 0s 6ms/step - loss: 0.3845 - accuracy: 0.8558 - val_loss: 0.9117 - val_accuracy: 0.4500\n",
            "Epoch 20/50\n",
            "10/10 [==============================] - 0s 5ms/step - loss: 0.3787 - accuracy: 0.8746 - val_loss: 0.9195 - val_accuracy: 0.4500\n",
            "Epoch 21/50\n",
            "10/10 [==============================] - 0s 6ms/step - loss: 0.3763 - accuracy: 0.8621 - val_loss: 0.9287 - val_accuracy: 0.4500\n",
            "Epoch 22/50\n",
            "10/10 [==============================] - 0s 5ms/step - loss: 0.3718 - accuracy: 0.8746 - val_loss: 0.9273 - val_accuracy: 0.4625\n",
            "Epoch 23/50\n",
            "10/10 [==============================] - 0s 5ms/step - loss: 0.3687 - accuracy: 0.8777 - val_loss: 0.9300 - val_accuracy: 0.4500\n",
            "Epoch 24/50\n",
            "10/10 [==============================] - 0s 6ms/step - loss: 0.3660 - accuracy: 0.8840 - val_loss: 0.9395 - val_accuracy: 0.4375\n",
            "Epoch 25/50\n",
            "10/10 [==============================] - 0s 5ms/step - loss: 0.3608 - accuracy: 0.8715 - val_loss: 0.9418 - val_accuracy: 0.4500\n",
            "Epoch 26/50\n",
            "10/10 [==============================] - 0s 7ms/step - loss: 0.3576 - accuracy: 0.8715 - val_loss: 0.9442 - val_accuracy: 0.4500\n",
            "Epoch 27/50\n",
            "10/10 [==============================] - 0s 7ms/step - loss: 0.3547 - accuracy: 0.8903 - val_loss: 0.9592 - val_accuracy: 0.4500\n",
            "Epoch 28/50\n",
            "10/10 [==============================] - 0s 5ms/step - loss: 0.3511 - accuracy: 0.8840 - val_loss: 0.9565 - val_accuracy: 0.4625\n",
            "Epoch 29/50\n",
            "10/10 [==============================] - 0s 7ms/step - loss: 0.3470 - accuracy: 0.8840 - val_loss: 0.9641 - val_accuracy: 0.4375\n",
            "Epoch 30/50\n",
            "10/10 [==============================] - 0s 6ms/step - loss: 0.3439 - accuracy: 0.8903 - val_loss: 0.9661 - val_accuracy: 0.4375\n",
            "Epoch 31/50\n",
            "10/10 [==============================] - 0s 7ms/step - loss: 0.3412 - accuracy: 0.8871 - val_loss: 0.9703 - val_accuracy: 0.4500\n",
            "Epoch 32/50\n",
            "10/10 [==============================] - 0s 7ms/step - loss: 0.3374 - accuracy: 0.8871 - val_loss: 0.9701 - val_accuracy: 0.4500\n",
            "Epoch 33/50\n",
            "10/10 [==============================] - 0s 10ms/step - loss: 0.3389 - accuracy: 0.8746 - val_loss: 0.9854 - val_accuracy: 0.4375\n",
            "Epoch 34/50\n",
            "10/10 [==============================] - 0s 9ms/step - loss: 0.3313 - accuracy: 0.8934 - val_loss: 0.9893 - val_accuracy: 0.4500\n",
            "Epoch 35/50\n",
            "10/10 [==============================] - 0s 9ms/step - loss: 0.3265 - accuracy: 0.8966 - val_loss: 0.9926 - val_accuracy: 0.4375\n",
            "Epoch 36/50\n",
            "10/10 [==============================] - 0s 9ms/step - loss: 0.3254 - accuracy: 0.8840 - val_loss: 0.9961 - val_accuracy: 0.4375\n",
            "Epoch 37/50\n",
            "10/10 [==============================] - 0s 10ms/step - loss: 0.3181 - accuracy: 0.8997 - val_loss: 1.0004 - val_accuracy: 0.4500\n",
            "Epoch 38/50\n",
            "10/10 [==============================] - 0s 8ms/step - loss: 0.3157 - accuracy: 0.9028 - val_loss: 1.0090 - val_accuracy: 0.4500\n",
            "Epoch 39/50\n",
            "10/10 [==============================] - 0s 9ms/step - loss: 0.3137 - accuracy: 0.8997 - val_loss: 1.0167 - val_accuracy: 0.4500\n",
            "Epoch 40/50\n",
            "10/10 [==============================] - 0s 9ms/step - loss: 0.3083 - accuracy: 0.9028 - val_loss: 1.0186 - val_accuracy: 0.4375\n",
            "Epoch 41/50\n",
            "10/10 [==============================] - 0s 7ms/step - loss: 0.3063 - accuracy: 0.9028 - val_loss: 1.0214 - val_accuracy: 0.4375\n",
            "Epoch 42/50\n",
            "10/10 [==============================] - 0s 10ms/step - loss: 0.3024 - accuracy: 0.9028 - val_loss: 1.0312 - val_accuracy: 0.4500\n",
            "Epoch 43/50\n",
            "10/10 [==============================] - 0s 8ms/step - loss: 0.3015 - accuracy: 0.9060 - val_loss: 1.0361 - val_accuracy: 0.4500\n",
            "Epoch 44/50\n",
            "10/10 [==============================] - 0s 9ms/step - loss: 0.3022 - accuracy: 0.8997 - val_loss: 1.0417 - val_accuracy: 0.4375\n",
            "Epoch 45/50\n",
            "10/10 [==============================] - 0s 9ms/step - loss: 0.2943 - accuracy: 0.9122 - val_loss: 1.0482 - val_accuracy: 0.4500\n",
            "Epoch 46/50\n",
            "10/10 [==============================] - 0s 8ms/step - loss: 0.2910 - accuracy: 0.9060 - val_loss: 1.0608 - val_accuracy: 0.4500\n",
            "Epoch 47/50\n",
            "10/10 [==============================] - 0s 9ms/step - loss: 0.2878 - accuracy: 0.9091 - val_loss: 1.0527 - val_accuracy: 0.4375\n",
            "Epoch 48/50\n",
            "10/10 [==============================] - 0s 9ms/step - loss: 0.2847 - accuracy: 0.9154 - val_loss: 1.0644 - val_accuracy: 0.4500\n",
            "Epoch 49/50\n",
            "10/10 [==============================] - 0s 10ms/step - loss: 0.2815 - accuracy: 0.9185 - val_loss: 1.0710 - val_accuracy: 0.4500\n",
            "Epoch 50/50\n",
            "10/10 [==============================] - 0s 10ms/step - loss: 0.2792 - accuracy: 0.9185 - val_loss: 1.0730 - val_accuracy: 0.4375\n"
          ]
        }
      ]
    },
    {
      "cell_type": "code",
      "source": [
        "train_accuracy = history.history['accuracy']\n",
        "val_accuracy = history.history['val_accuracy']\n",
        "loss = history.history['loss']\n",
        "val_loss = history.history['val_loss']"
      ],
      "metadata": {
        "id": "s_kKhjpEvarm"
      },
      "execution_count": null,
      "outputs": []
    },
    {
      "cell_type": "code",
      "source": [
        "y_pred_prob = model.predict(X_test)\n",
        "y_pred = (y_pred_prob > 0.5).astype(int)  # Menggunakan threshold 0.5\n",
        "accuracy = accuracy_score(y_test, y_pred)\n",
        "print(f'\\nAkurasi model: {accuracy * 100:.2f}%')"
      ],
      "metadata": {
        "colab": {
          "base_uri": "https://localhost:8080/"
        },
        "id": "KDvnPS5VcE_W",
        "outputId": "6eb51fd5-dbd6-44b2-af48-bb7d7539e47e"
      },
      "execution_count": null,
      "outputs": [
        {
          "output_type": "stream",
          "name": "stdout",
          "text": [
            "4/4 [==============================] - 0s 3ms/step\n",
            "\n",
            "Akurasi model: 50.00%\n"
          ]
        }
      ]
    },
    {
      "cell_type": "code",
      "source": [
        "print(\"\\nConfusion Matrix:\")\n",
        "print(confusion_matrix(y_test, y_pred))\n",
        "print(\"\\nClassification Report:\")\n",
        "print(classification_report(y_test, y_pred))"
      ],
      "metadata": {
        "colab": {
          "base_uri": "https://localhost:8080/"
        },
        "id": "wtJ1E7zSdZiJ",
        "outputId": "aeb97c2c-e8ae-4bad-ff75-7b0772e6cc75"
      },
      "execution_count": null,
      "outputs": [
        {
          "output_type": "stream",
          "name": "stdout",
          "text": [
            "\n",
            "Confusion Matrix:\n",
            "[[28 25]\n",
            " [25 22]]\n",
            "\n",
            "Classification Report:\n",
            "              precision    recall  f1-score   support\n",
            "\n",
            "           0       0.53      0.53      0.53        53\n",
            "           1       0.47      0.47      0.47        47\n",
            "\n",
            "    accuracy                           0.50       100\n",
            "   macro avg       0.50      0.50      0.50       100\n",
            "weighted avg       0.50      0.50      0.50       100\n",
            "\n"
          ]
        }
      ]
    },
    {
      "cell_type": "code",
      "source": [
        "plt.figure(figsize=(12, 6))"
      ],
      "metadata": {
        "colab": {
          "base_uri": "https://localhost:8080/",
          "height": 52
        },
        "id": "0CbWh5WGvNz8",
        "outputId": "c1beca39-2520-4b47-ba41-ed69ae4a87ae"
      },
      "execution_count": null,
      "outputs": [
        {
          "output_type": "execute_result",
          "data": {
            "text/plain": [
              "<Figure size 1200x600 with 0 Axes>"
            ]
          },
          "metadata": {},
          "execution_count": 76
        },
        {
          "output_type": "display_data",
          "data": {
            "text/plain": [
              "<Figure size 1200x600 with 0 Axes>"
            ]
          },
          "metadata": {}
        }
      ]
    },
    {
      "cell_type": "code",
      "source": [
        "plt.subplot(1, 2, 1)\n",
        "plt.plot(train_accuracy, label='Training Accuracy')\n",
        "plt.plot(val_accuracy, label='Validation Accuracy')\n",
        "plt.title('Training and Validation Accuracy')\n",
        "plt.xlabel('Epoch')\n",
        "plt.ylabel('Accuracy')\n",
        "plt.legend()"
      ],
      "metadata": {
        "colab": {
          "base_uri": "https://localhost:8080/",
          "height": 489
        },
        "id": "7tjFzjLbvgRB",
        "outputId": "9155860a-10bd-431a-cc13-d00d38ae4691"
      },
      "execution_count": null,
      "outputs": [
        {
          "output_type": "execute_result",
          "data": {
            "text/plain": [
              "<matplotlib.legend.Legend at 0x7a22b602a920>"
            ]
          },
          "metadata": {},
          "execution_count": 77
        },
        {
          "output_type": "display_data",
          "data": {
            "text/plain": [
              "<Figure size 640x480 with 1 Axes>"
            ],
            "image/png": "[encoded data removed]"
          },
          "metadata": {}
        }
      ]
    },
    {
      "cell_type": "code",
      "source": [
        "plt.subplot(1, 2, 2)\n",
        "plt.plot(loss, label='Training Loss')\n",
        "plt.plot(val_loss, label='Validation Loss')\n",
        "plt.title('Training and Validation Loss')\n",
        "plt.xlabel('Epoch')\n",
        "plt.ylabel('Loss')\n",
        "plt.legend()\n",
        "\n",
        "plt.tight_layout()\n",
        "plt.show()"
      ],
      "metadata": {
        "colab": {
          "base_uri": "https://localhost:8080/",
          "height": 487
        },
        "id": "o77dTU08vlgE",
        "outputId": "a20fc709-4c31-4203-de41-263d2c63d986"
      },
      "execution_count": null,
      "outputs": [
        {
          "output_type": "display_data",
          "data": {
            "text/plain": [
              "<Figure size 640x480 with 1 Axes>"
            ],
            "image/png": "[encoded data removed]"
          },
          "metadata": {}
        }
      ]
    }
  ]
}